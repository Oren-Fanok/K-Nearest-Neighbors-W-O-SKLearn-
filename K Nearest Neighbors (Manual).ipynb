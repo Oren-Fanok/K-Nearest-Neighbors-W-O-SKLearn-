{
 "cells": [
  {
   "cell_type": "markdown",
   "id": "d24c0f29",
   "metadata": {},
   "source": [
    "# K Nearest Neighbors"
   ]
  },
  {
   "cell_type": "code",
   "execution_count": 1,
   "id": "9b7bd64c",
   "metadata": {},
   "outputs": [],
   "source": [
    "import pandas as pd\n",
    "import scipy.stats\n",
    "import matplotlib.pyplot as plt\n",
    "import numpy as np\n",
    "import seaborn as sns\n",
    "import matplotlib.patches as mpatches\n",
    "from statistics import mode\n",
    "from math import sqrt\n",
    "from fancyimpute import KNN\n",
    "from sklearn import metrics\n",
    "from sklearn.neighbors import KNeighborsClassifier\n",
    "from sklearn.model_selection import train_test_split\n",
    "from sklearn.datasets import make_blobs\n",
    "from sklearn.preprocessing import OrdinalEncoder\n",
    "from sklearn.preprocessing import StandardScaler\n",
    "from sklearn.metrics import mean_squared_error\n",
    "from sklearn.metrics import classification_report, confusion_matrix"
   ]
  },
  {
   "cell_type": "markdown",
   "id": "bff34ed2",
   "metadata": {},
   "source": [
    "# Reading in our Dataset"
   ]
  },
  {
   "cell_type": "code",
   "execution_count": 2,
   "id": "223e00cb",
   "metadata": {},
   "outputs": [],
   "source": [
    "dataset_df = pd.read_csv(\"knn-training-data.txt\")"
   ]
  },
  {
   "cell_type": "code",
   "execution_count": 3,
   "id": "57ea1481",
   "metadata": {},
   "outputs": [],
   "source": [
    "# let's get rid of customer ID, we have an index\n",
    "dataset_df = dataset_df.drop('customer_id', axis = 1)\n",
    "\n",
    "# now let's also get rid of most popular category, a categorical var \n",
    "# we don't need in our dataset\n",
    "dataset_df = dataset_df.drop('most_popular_category', axis = 1)"
   ]
  },
  {
   "cell_type": "code",
   "execution_count": 4,
   "id": "132b1ed8",
   "metadata": {},
   "outputs": [
    {
     "data": {
      "text/html": [
       "<div>\n",
       "<style scoped>\n",
       "    .dataframe tbody tr th:only-of-type {\n",
       "        vertical-align: middle;\n",
       "    }\n",
       "\n",
       "    .dataframe tbody tr th {\n",
       "        vertical-align: top;\n",
       "    }\n",
       "\n",
       "    .dataframe thead th {\n",
       "        text-align: right;\n",
       "    }\n",
       "</style>\n",
       "<table border=\"1\" class=\"dataframe\">\n",
       "  <thead>\n",
       "    <tr style=\"text-align: right;\">\n",
       "      <th></th>\n",
       "      <th>relationship_days</th>\n",
       "      <th>total_spend</th>\n",
       "      <th>beverage_categories</th>\n",
       "      <th>segment</th>\n",
       "    </tr>\n",
       "  </thead>\n",
       "  <tbody>\n",
       "    <tr>\n",
       "      <th>0</th>\n",
       "      <td>240</td>\n",
       "      <td>230.75</td>\n",
       "      <td>9</td>\n",
       "      <td>explorer</td>\n",
       "    </tr>\n",
       "    <tr>\n",
       "      <th>1</th>\n",
       "      <td>218</td>\n",
       "      <td>117.50</td>\n",
       "      <td>3</td>\n",
       "      <td>explorer</td>\n",
       "    </tr>\n",
       "    <tr>\n",
       "      <th>2</th>\n",
       "      <td>139</td>\n",
       "      <td>105.50</td>\n",
       "      <td>4</td>\n",
       "      <td>explorer</td>\n",
       "    </tr>\n",
       "    <tr>\n",
       "      <th>3</th>\n",
       "      <td>748</td>\n",
       "      <td>18.00</td>\n",
       "      <td>1</td>\n",
       "      <td>cheapo</td>\n",
       "    </tr>\n",
       "    <tr>\n",
       "      <th>4</th>\n",
       "      <td>743</td>\n",
       "      <td>404.50</td>\n",
       "      <td>6</td>\n",
       "      <td>loyal core</td>\n",
       "    </tr>\n",
       "  </tbody>\n",
       "</table>\n",
       "</div>"
      ],
      "text/plain": [
       "   relationship_days  total_spend  beverage_categories     segment\n",
       "0                240       230.75                    9    explorer\n",
       "1                218       117.50                    3    explorer\n",
       "2                139       105.50                    4    explorer\n",
       "3                748        18.00                    1      cheapo\n",
       "4                743       404.50                    6  loyal core"
      ]
     },
     "execution_count": 4,
     "metadata": {},
     "output_type": "execute_result"
    }
   ],
   "source": [
    "dataset_df.head()"
   ]
  },
  {
   "cell_type": "markdown",
   "id": "b0116d24",
   "metadata": {},
   "source": [
    "# Creating Training Dataset"
   ]
  },
  {
   "cell_type": "code",
   "execution_count": 5,
   "id": "1adaf8cc",
   "metadata": {},
   "outputs": [
    {
     "data": {
      "text/html": [
       "<div>\n",
       "<style scoped>\n",
       "    .dataframe tbody tr th:only-of-type {\n",
       "        vertical-align: middle;\n",
       "    }\n",
       "\n",
       "    .dataframe tbody tr th {\n",
       "        vertical-align: top;\n",
       "    }\n",
       "\n",
       "    .dataframe thead th {\n",
       "        text-align: right;\n",
       "    }\n",
       "</style>\n",
       "<table border=\"1\" class=\"dataframe\">\n",
       "  <thead>\n",
       "    <tr style=\"text-align: right;\">\n",
       "      <th></th>\n",
       "      <th>relationship_days</th>\n",
       "      <th>total_spend</th>\n",
       "      <th>beverage_categories</th>\n",
       "      <th>segment</th>\n",
       "      <th>distance</th>\n",
       "    </tr>\n",
       "  </thead>\n",
       "  <tbody>\n",
       "    <tr>\n",
       "      <th>0</th>\n",
       "      <td>240</td>\n",
       "      <td>230.75</td>\n",
       "      <td>9</td>\n",
       "      <td>explorer</td>\n",
       "      <td>9999</td>\n",
       "    </tr>\n",
       "    <tr>\n",
       "      <th>1</th>\n",
       "      <td>218</td>\n",
       "      <td>117.50</td>\n",
       "      <td>3</td>\n",
       "      <td>explorer</td>\n",
       "      <td>9999</td>\n",
       "    </tr>\n",
       "    <tr>\n",
       "      <th>2</th>\n",
       "      <td>139</td>\n",
       "      <td>105.50</td>\n",
       "      <td>4</td>\n",
       "      <td>explorer</td>\n",
       "      <td>9999</td>\n",
       "    </tr>\n",
       "    <tr>\n",
       "      <th>3</th>\n",
       "      <td>748</td>\n",
       "      <td>18.00</td>\n",
       "      <td>1</td>\n",
       "      <td>cheapo</td>\n",
       "      <td>9999</td>\n",
       "    </tr>\n",
       "    <tr>\n",
       "      <th>4</th>\n",
       "      <td>743</td>\n",
       "      <td>404.50</td>\n",
       "      <td>6</td>\n",
       "      <td>loyal core</td>\n",
       "      <td>9999</td>\n",
       "    </tr>\n",
       "  </tbody>\n",
       "</table>\n",
       "</div>"
      ],
      "text/plain": [
       "   relationship_days  total_spend  beverage_categories     segment distance\n",
       "0                240       230.75                    9    explorer     9999\n",
       "1                218       117.50                    3    explorer     9999\n",
       "2                139       105.50                    4    explorer     9999\n",
       "3                748        18.00                    1      cheapo     9999\n",
       "4                743       404.50                    6  loyal core     9999"
      ]
     },
     "execution_count": 5,
     "metadata": {},
     "output_type": "execute_result"
    }
   ],
   "source": [
    "training_df = dataset_df\n",
    "\n",
    "#create labels\n",
    "cols = ['explorer', 'cheapo', 'loyal core', 'newbie']\n",
    "\n",
    "#add labels\n",
    "training_df.rename(columns = {cols[0]:0, cols[1]:1, cols[2]:2, cols[3]:3 })\n",
    "\n",
    "#add a distance column\n",
    "training_df['distance'] = '9999'\n",
    "\n",
    "#view our training DF\n",
    "training_df.head()"
   ]
  },
  {
   "cell_type": "markdown",
   "id": "fe61150e",
   "metadata": {},
   "source": [
    "Now let's create our target for our KNN, this will be the first row of our training_df."
   ]
  },
  {
   "cell_type": "code",
   "execution_count": 6,
   "id": "ee521eac",
   "metadata": {},
   "outputs": [],
   "source": [
    "target = pd.Series([36,240,230.75,9])\n",
    "#target"
   ]
  },
  {
   "cell_type": "markdown",
   "id": "6bbbbb00",
   "metadata": {},
   "source": [
    "Now that we have our target we will measure the 'distance' between this target point and all the other points in our dataset. I will be using Euclidean Distance."
   ]
  },
  {
   "cell_type": "code",
   "execution_count": 7,
   "id": "a73e2727",
   "metadata": {},
   "outputs": [],
   "source": [
    "training_df['distance'] = (((training_df.loc[:,'relationship_days']-target[0])**2 + (training_df.loc[:,'total_spend']-target[1])**2 + (training_df.loc[:,'beverage_categories']-target[2])**2)** 0.5)"
   ]
  },
  {
   "cell_type": "code",
   "execution_count": 8,
   "id": "0125b1cd",
   "metadata": {},
   "outputs": [
    {
     "data": {
      "text/html": [
       "<div>\n",
       "<style scoped>\n",
       "    .dataframe tbody tr th:only-of-type {\n",
       "        vertical-align: middle;\n",
       "    }\n",
       "\n",
       "    .dataframe tbody tr th {\n",
       "        vertical-align: top;\n",
       "    }\n",
       "\n",
       "    .dataframe thead th {\n",
       "        text-align: right;\n",
       "    }\n",
       "</style>\n",
       "<table border=\"1\" class=\"dataframe\">\n",
       "  <thead>\n",
       "    <tr style=\"text-align: right;\">\n",
       "      <th></th>\n",
       "      <th>relationship_days</th>\n",
       "      <th>total_spend</th>\n",
       "      <th>beverage_categories</th>\n",
       "      <th>segment</th>\n",
       "      <th>distance</th>\n",
       "    </tr>\n",
       "  </thead>\n",
       "  <tbody>\n",
       "    <tr>\n",
       "      <th>15725</th>\n",
       "      <td>103</td>\n",
       "      <td>231.25</td>\n",
       "      <td>12</td>\n",
       "      <td>explorer</td>\n",
       "      <td>228.947865</td>\n",
       "    </tr>\n",
       "    <tr>\n",
       "      <th>7301</th>\n",
       "      <td>109</td>\n",
       "      <td>237.50</td>\n",
       "      <td>13</td>\n",
       "      <td>explorer</td>\n",
       "      <td>229.674362</td>\n",
       "    </tr>\n",
       "    <tr>\n",
       "      <th>1342</th>\n",
       "      <td>108</td>\n",
       "      <td>261.25</td>\n",
       "      <td>12</td>\n",
       "      <td>explorer</td>\n",
       "      <td>231.272837</td>\n",
       "    </tr>\n",
       "    <tr>\n",
       "      <th>2877</th>\n",
       "      <td>101</td>\n",
       "      <td>219.00</td>\n",
       "      <td>9</td>\n",
       "      <td>explorer</td>\n",
       "      <td>232.032460</td>\n",
       "    </tr>\n",
       "    <tr>\n",
       "      <th>12017</th>\n",
       "      <td>116</td>\n",
       "      <td>228.50</td>\n",
       "      <td>12</td>\n",
       "      <td>explorer</td>\n",
       "      <td>233.203372</td>\n",
       "    </tr>\n",
       "  </tbody>\n",
       "</table>\n",
       "</div>"
      ],
      "text/plain": [
       "       relationship_days  total_spend  beverage_categories   segment  \\\n",
       "15725                103       231.25                   12  explorer   \n",
       "7301                 109       237.50                   13  explorer   \n",
       "1342                 108       261.25                   12  explorer   \n",
       "2877                 101       219.00                    9  explorer   \n",
       "12017                116       228.50                   12  explorer   \n",
       "\n",
       "         distance  \n",
       "15725  228.947865  \n",
       "7301   229.674362  \n",
       "1342   231.272837  \n",
       "2877   232.032460  \n",
       "12017  233.203372  "
      ]
     },
     "execution_count": 8,
     "metadata": {},
     "output_type": "execute_result"
    }
   ],
   "source": [
    "training_df.sort_values('distance', ascending = True).head()"
   ]
  },
  {
   "cell_type": "markdown",
   "id": "1f72d0a3",
   "metadata": {},
   "source": [
    "# Building KNN Model"
   ]
  },
  {
   "cell_type": "code",
   "execution_count": 9,
   "id": "1b9d22c8",
   "metadata": {},
   "outputs": [
    {
     "data": {
      "text/plain": [
       "['explorer',\n",
       " 'explorer',\n",
       " 'explorer',\n",
       " 'explorer',\n",
       " 'explorer',\n",
       " 'explorer',\n",
       " 'explorer',\n",
       " 'explorer',\n",
       " 'explorer',\n",
       " 'explorer']"
      ]
     },
     "execution_count": 9,
     "metadata": {},
     "output_type": "execute_result"
    }
   ],
   "source": [
    "k = 10\n",
    "training_df = training_df.sort_values('distance', ascending = True)\n",
    "knn = list(training_df.head(k).segment)\n",
    "knn"
   ]
  },
  {
   "cell_type": "markdown",
   "id": "5ea4e075",
   "metadata": {},
   "source": [
    "# Reading in Testing Data"
   ]
  },
  {
   "cell_type": "code",
   "execution_count": 10,
   "id": "61463154",
   "metadata": {},
   "outputs": [],
   "source": [
    "testing_df = pd.read_csv(\"knn-testing-data.txt\")"
   ]
  },
  {
   "cell_type": "code",
   "execution_count": 11,
   "id": "9fefdac2",
   "metadata": {},
   "outputs": [],
   "source": [
    "del testing_df['most_popular_category']\n",
    "\n",
    "#create a testing prediction column\n",
    "testing_df['prediction']=''\n"
   ]
  },
  {
   "cell_type": "code",
   "execution_count": 12,
   "id": "cd88391c",
   "metadata": {},
   "outputs": [],
   "source": [
    "#choose our target customer to compare the rest too\n",
    "the_cust = testing_df.iloc[0,:]"
   ]
  },
  {
   "cell_type": "code",
   "execution_count": 13,
   "id": "e2b14945",
   "metadata": {},
   "outputs": [],
   "source": [
    "#calculate my euclidean distance\n",
    "training_df['distance'] = (((training_df.loc[:,'relationship_days']-the_cust[1])**2 + (training_df.loc[:,'total_spend']-the_cust[2])**2 + (training_df.loc[:,'beverage_categories']-the_cust[3])**2)** 0.5)\n"
   ]
  },
  {
   "cell_type": "markdown",
   "id": "f328b1cd",
   "metadata": {},
   "source": [
    "# Results "
   ]
  },
  {
   "cell_type": "code",
   "execution_count": 14,
   "id": "29f60780",
   "metadata": {},
   "outputs": [
    {
     "data": {
      "text/html": [
       "<div>\n",
       "<style scoped>\n",
       "    .dataframe tbody tr th:only-of-type {\n",
       "        vertical-align: middle;\n",
       "    }\n",
       "\n",
       "    .dataframe tbody tr th {\n",
       "        vertical-align: top;\n",
       "    }\n",
       "\n",
       "    .dataframe thead th {\n",
       "        text-align: right;\n",
       "    }\n",
       "</style>\n",
       "<table border=\"1\" class=\"dataframe\">\n",
       "  <thead>\n",
       "    <tr style=\"text-align: right;\">\n",
       "      <th></th>\n",
       "      <th>relationship_days</th>\n",
       "      <th>total_spend</th>\n",
       "      <th>beverage_categories</th>\n",
       "      <th>segment</th>\n",
       "      <th>distance</th>\n",
       "    </tr>\n",
       "  </thead>\n",
       "  <tbody>\n",
       "    <tr>\n",
       "      <th>321</th>\n",
       "      <td>224</td>\n",
       "      <td>144.00</td>\n",
       "      <td>4</td>\n",
       "      <td>explorer</td>\n",
       "      <td>1.414214</td>\n",
       "    </tr>\n",
       "    <tr>\n",
       "      <th>2407</th>\n",
       "      <td>224</td>\n",
       "      <td>146.00</td>\n",
       "      <td>2</td>\n",
       "      <td>explorer</td>\n",
       "      <td>3.162278</td>\n",
       "    </tr>\n",
       "    <tr>\n",
       "      <th>1823</th>\n",
       "      <td>223</td>\n",
       "      <td>148.00</td>\n",
       "      <td>5</td>\n",
       "      <td>explorer</td>\n",
       "      <td>3.162278</td>\n",
       "    </tr>\n",
       "    <tr>\n",
       "      <th>5667</th>\n",
       "      <td>227</td>\n",
       "      <td>140.75</td>\n",
       "      <td>6</td>\n",
       "      <td>explorer</td>\n",
       "      <td>5.297405</td>\n",
       "    </tr>\n",
       "    <tr>\n",
       "      <th>11612</th>\n",
       "      <td>222</td>\n",
       "      <td>149.50</td>\n",
       "      <td>7</td>\n",
       "      <td>explorer</td>\n",
       "      <td>5.315073</td>\n",
       "    </tr>\n",
       "  </tbody>\n",
       "</table>\n",
       "</div>"
      ],
      "text/plain": [
       "       relationship_days  total_spend  beverage_categories   segment  distance\n",
       "321                  224       144.00                    4  explorer  1.414214\n",
       "2407                 224       146.00                    2  explorer  3.162278\n",
       "1823                 223       148.00                    5  explorer  3.162278\n",
       "5667                 227       140.75                    6  explorer  5.297405\n",
       "11612                222       149.50                    7  explorer  5.315073"
      ]
     },
     "execution_count": 14,
     "metadata": {},
     "output_type": "execute_result"
    }
   ],
   "source": [
    "training_df.sort_values('distance', ascending=True).head()"
   ]
  },
  {
   "cell_type": "code",
   "execution_count": 15,
   "id": "81c1bff7",
   "metadata": {},
   "outputs": [
    {
     "data": {
      "text/plain": [
       "['explorer',\n",
       " 'explorer',\n",
       " 'explorer',\n",
       " 'explorer',\n",
       " 'explorer',\n",
       " 'explorer',\n",
       " 'explorer',\n",
       " 'explorer',\n",
       " 'explorer',\n",
       " 'explorer']"
      ]
     },
     "execution_count": 15,
     "metadata": {},
     "output_type": "execute_result"
    }
   ],
   "source": [
    "k = 10\n",
    "training_df = training_df.sort_values('distance', ascending = True)\n",
    "knn = list(training_df.head(k).segment)\n",
    "knn"
   ]
  },
  {
   "cell_type": "markdown",
   "id": "a7e00114",
   "metadata": {},
   "source": [
    "# Testing Prediction on One dataset Row"
   ]
  },
  {
   "cell_type": "code",
   "execution_count": 16,
   "id": "79bb3b60",
   "metadata": {},
   "outputs": [],
   "source": [
    "k = 10\n",
    "\n",
    "prediction = mode(training_df.sort_values('distance', ascending=True).head(k).segment)"
   ]
  },
  {
   "cell_type": "code",
   "execution_count": 17,
   "id": "03377355",
   "metadata": {
    "scrolled": true
   },
   "outputs": [],
   "source": [
    "testing_df.iloc[0,4] = prediction"
   ]
  },
  {
   "cell_type": "raw",
   "id": "93a3f960",
   "metadata": {},
   "source": [
    "Now let's see what category our prediction model will predict the target customer will fall into. Here we can see in the results my target customer is predicted to fall into the explorer category."
   ]
  },
  {
   "cell_type": "code",
   "execution_count": 18,
   "id": "79988bb7",
   "metadata": {},
   "outputs": [
    {
     "data": {
      "text/html": [
       "<div>\n",
       "<style scoped>\n",
       "    .dataframe tbody tr th:only-of-type {\n",
       "        vertical-align: middle;\n",
       "    }\n",
       "\n",
       "    .dataframe tbody tr th {\n",
       "        vertical-align: top;\n",
       "    }\n",
       "\n",
       "    .dataframe thead th {\n",
       "        text-align: right;\n",
       "    }\n",
       "</style>\n",
       "<table border=\"1\" class=\"dataframe\">\n",
       "  <thead>\n",
       "    <tr style=\"text-align: right;\">\n",
       "      <th></th>\n",
       "      <th>customer_id</th>\n",
       "      <th>relationship_days</th>\n",
       "      <th>total_spend</th>\n",
       "      <th>beverage_categories</th>\n",
       "      <th>prediction</th>\n",
       "    </tr>\n",
       "  </thead>\n",
       "  <tbody>\n",
       "    <tr>\n",
       "      <th>0</th>\n",
       "      <td>, 9GT0P908DS5VGJYRYG4CHAPSQG</td>\n",
       "      <td>224</td>\n",
       "      <td>145.0</td>\n",
       "      <td>5</td>\n",
       "      <td>explorer</td>\n",
       "    </tr>\n",
       "    <tr>\n",
       "      <th>1</th>\n",
       "      <td>, D74N0TBT7D2K6YPYDA734V56Y4</td>\n",
       "      <td>272</td>\n",
       "      <td>152.5</td>\n",
       "      <td>5</td>\n",
       "      <td></td>\n",
       "    </tr>\n",
       "    <tr>\n",
       "      <th>2</th>\n",
       "      <td>, XHN902RSGS7V6ZBWN7FE5QVGA4</td>\n",
       "      <td>371</td>\n",
       "      <td>55.0</td>\n",
       "      <td>3</td>\n",
       "      <td></td>\n",
       "    </tr>\n",
       "    <tr>\n",
       "      <th>3</th>\n",
       "      <td>, YDZ8kOpLlCLDlmom</td>\n",
       "      <td>609</td>\n",
       "      <td>159.0</td>\n",
       "      <td>6</td>\n",
       "      <td></td>\n",
       "    </tr>\n",
       "    <tr>\n",
       "      <th>4</th>\n",
       "      <td>-uNXHhkiA5JEebdj</td>\n",
       "      <td>802</td>\n",
       "      <td>107.0</td>\n",
       "      <td>8</td>\n",
       "      <td></td>\n",
       "    </tr>\n",
       "  </tbody>\n",
       "</table>\n",
       "</div>"
      ],
      "text/plain": [
       "                    customer_id  relationship_days  total_spend  \\\n",
       "0  , 9GT0P908DS5VGJYRYG4CHAPSQG                224        145.0   \n",
       "1  , D74N0TBT7D2K6YPYDA734V56Y4                272        152.5   \n",
       "2  , XHN902RSGS7V6ZBWN7FE5QVGA4                371         55.0   \n",
       "3            , YDZ8kOpLlCLDlmom                609        159.0   \n",
       "4              -uNXHhkiA5JEebdj                802        107.0   \n",
       "\n",
       "   beverage_categories prediction  \n",
       "0                    5   explorer  \n",
       "1                    5             \n",
       "2                    3             \n",
       "3                    6             \n",
       "4                    8             "
      ]
     },
     "execution_count": 18,
     "metadata": {},
     "output_type": "execute_result"
    }
   ],
   "source": [
    "testing_df.head()"
   ]
  },
  {
   "cell_type": "markdown",
   "id": "57f6c99e",
   "metadata": {},
   "source": [
    "# Testing Prediction on all dataset Rows"
   ]
  },
  {
   "cell_type": "code",
   "execution_count": 23,
   "id": "92990197",
   "metadata": {},
   "outputs": [],
   "source": [
    "k = 25\n",
    "\n",
    "#this allows us to iterate over all rows in our testing_df\n",
    "for row_idx in  range(testing_df.shape[0]):\n",
    "    \n",
    "    #the customer is changed every iteration\n",
    "    the_cust = testing_df.iloc[row_idx,:]\n",
    "    #distance calculation\n",
    "    training_df['distance'] = (((training_df.loc[:,'relationship_days']-the_cust[1])**2 + (training_df.loc[:,'total_spend']-the_cust[2])**2 + (training_df.loc[:,'beverage_categories']-the_cust[3])**2)** 0.5)\n",
    "    # Prediction line\n",
    "    prediction = mode(training_df.sort_values('distance', ascending=True).head(k).segment)\n",
    "    #prediction line locking columns\n",
    "    testing_df.iloc[row_idx,4] = prediction\n",
    "    \n",
    "    \n",
    "    \n",
    "    #if row_idx>10:\n",
    "        #break\n",
    "    \n",
    "    "
   ]
  },
  {
   "cell_type": "markdown",
   "id": "33919055",
   "metadata": {},
   "source": [
    "# Results "
   ]
  },
  {
   "cell_type": "code",
   "execution_count": 29,
   "id": "531e599a",
   "metadata": {},
   "outputs": [
    {
     "data": {
      "text/plain": [
       "prediction\n",
       "newbie        562\n",
       "loyal core    516\n",
       "cheapo        451\n",
       "explorer      260\n",
       "dtype: int64"
      ]
     },
     "execution_count": 29,
     "metadata": {},
     "output_type": "execute_result"
    }
   ],
   "source": [
    "testing_df.value_counts('prediction')"
   ]
  },
  {
   "cell_type": "code",
   "execution_count": 26,
   "id": "5afb8597",
   "metadata": {},
   "outputs": [
    {
     "data": {
      "text/html": [
       "<div>\n",
       "<style scoped>\n",
       "    .dataframe tbody tr th:only-of-type {\n",
       "        vertical-align: middle;\n",
       "    }\n",
       "\n",
       "    .dataframe tbody tr th {\n",
       "        vertical-align: top;\n",
       "    }\n",
       "\n",
       "    .dataframe thead th {\n",
       "        text-align: right;\n",
       "    }\n",
       "</style>\n",
       "<table border=\"1\" class=\"dataframe\">\n",
       "  <thead>\n",
       "    <tr style=\"text-align: right;\">\n",
       "      <th></th>\n",
       "      <th>customer_id</th>\n",
       "      <th>relationship_days</th>\n",
       "      <th>total_spend</th>\n",
       "      <th>beverage_categories</th>\n",
       "      <th>prediction</th>\n",
       "    </tr>\n",
       "  </thead>\n",
       "  <tbody>\n",
       "    <tr>\n",
       "      <th>0</th>\n",
       "      <td>, 9GT0P908DS5VGJYRYG4CHAPSQG</td>\n",
       "      <td>224</td>\n",
       "      <td>145.00</td>\n",
       "      <td>5</td>\n",
       "      <td>explorer</td>\n",
       "    </tr>\n",
       "    <tr>\n",
       "      <th>1</th>\n",
       "      <td>, D74N0TBT7D2K6YPYDA734V56Y4</td>\n",
       "      <td>272</td>\n",
       "      <td>152.50</td>\n",
       "      <td>5</td>\n",
       "      <td>explorer</td>\n",
       "    </tr>\n",
       "    <tr>\n",
       "      <th>2</th>\n",
       "      <td>, XHN902RSGS7V6ZBWN7FE5QVGA4</td>\n",
       "      <td>371</td>\n",
       "      <td>55.00</td>\n",
       "      <td>3</td>\n",
       "      <td>cheapo</td>\n",
       "    </tr>\n",
       "    <tr>\n",
       "      <th>3</th>\n",
       "      <td>, YDZ8kOpLlCLDlmom</td>\n",
       "      <td>609</td>\n",
       "      <td>159.00</td>\n",
       "      <td>6</td>\n",
       "      <td>loyal core</td>\n",
       "    </tr>\n",
       "    <tr>\n",
       "      <th>4</th>\n",
       "      <td>-uNXHhkiA5JEebdj</td>\n",
       "      <td>802</td>\n",
       "      <td>107.00</td>\n",
       "      <td>8</td>\n",
       "      <td>loyal core</td>\n",
       "    </tr>\n",
       "    <tr>\n",
       "      <th>5</th>\n",
       "      <td>00GN9QQ53H639C9EW0KJRKGN5W</td>\n",
       "      <td>213</td>\n",
       "      <td>92.00</td>\n",
       "      <td>2</td>\n",
       "      <td>newbie</td>\n",
       "    </tr>\n",
       "    <tr>\n",
       "      <th>6</th>\n",
       "      <td>00M2PX68JH0E2Y44BSXPB8WPR8</td>\n",
       "      <td>590</td>\n",
       "      <td>123.00</td>\n",
       "      <td>12</td>\n",
       "      <td>loyal core</td>\n",
       "    </tr>\n",
       "    <tr>\n",
       "      <th>7</th>\n",
       "      <td>00PYAN31NH58CYD297MVV2JQTC</td>\n",
       "      <td>559</td>\n",
       "      <td>94.50</td>\n",
       "      <td>5</td>\n",
       "      <td>cheapo</td>\n",
       "    </tr>\n",
       "    <tr>\n",
       "      <th>8</th>\n",
       "      <td>00R2NCKF4X5SCSTW59HRY5VDG8</td>\n",
       "      <td>314</td>\n",
       "      <td>79.00</td>\n",
       "      <td>6</td>\n",
       "      <td>newbie</td>\n",
       "    </tr>\n",
       "    <tr>\n",
       "      <th>9</th>\n",
       "      <td>00ZSCPVYFH2TEMWQTV6M8PC3K0</td>\n",
       "      <td>393</td>\n",
       "      <td>378.25</td>\n",
       "      <td>13</td>\n",
       "      <td>loyal core</td>\n",
       "    </tr>\n",
       "  </tbody>\n",
       "</table>\n",
       "</div>"
      ],
      "text/plain": [
       "                    customer_id  relationship_days  total_spend  \\\n",
       "0  , 9GT0P908DS5VGJYRYG4CHAPSQG                224       145.00   \n",
       "1  , D74N0TBT7D2K6YPYDA734V56Y4                272       152.50   \n",
       "2  , XHN902RSGS7V6ZBWN7FE5QVGA4                371        55.00   \n",
       "3            , YDZ8kOpLlCLDlmom                609       159.00   \n",
       "4              -uNXHhkiA5JEebdj                802       107.00   \n",
       "5    00GN9QQ53H639C9EW0KJRKGN5W                213        92.00   \n",
       "6    00M2PX68JH0E2Y44BSXPB8WPR8                590       123.00   \n",
       "7    00PYAN31NH58CYD297MVV2JQTC                559        94.50   \n",
       "8    00R2NCKF4X5SCSTW59HRY5VDG8                314        79.00   \n",
       "9    00ZSCPVYFH2TEMWQTV6M8PC3K0                393       378.25   \n",
       "\n",
       "   beverage_categories  prediction  \n",
       "0                    5    explorer  \n",
       "1                    5    explorer  \n",
       "2                    3      cheapo  \n",
       "3                    6  loyal core  \n",
       "4                    8  loyal core  \n",
       "5                    2      newbie  \n",
       "6                   12  loyal core  \n",
       "7                    5      cheapo  \n",
       "8                    6      newbie  \n",
       "9                   13  loyal core  "
      ]
     },
     "execution_count": 26,
     "metadata": {},
     "output_type": "execute_result"
    }
   ],
   "source": [
    "testing_df.head(10)"
   ]
  },
  {
   "cell_type": "markdown",
   "id": "16511685",
   "metadata": {},
   "source": [
    "# Read in Comparison Data"
   ]
  },
  {
   "cell_type": "markdown",
   "id": "12c2504f",
   "metadata": {},
   "source": [
    "Finally we will read in our true values file, and compare our KNN prediction results to the true values to test our accuracy."
   ]
  },
  {
   "cell_type": "code",
   "execution_count": 27,
   "id": "ed2bf4d9",
   "metadata": {},
   "outputs": [],
   "source": [
    "evaluation_df = pd.read_csv(\"testing-true-values.txt\")"
   ]
  },
  {
   "cell_type": "markdown",
   "id": "80b01311",
   "metadata": {},
   "source": [
    "# Joining my evaluation_df to my testing_df "
   ]
  },
  {
   "cell_type": "code",
   "execution_count": 32,
   "id": "3c770602",
   "metadata": {
    "scrolled": true
   },
   "outputs": [],
   "source": [
    "testing_df = testing_df.merge(evaluation_df, on = 'customer_id')"
   ]
  },
  {
   "cell_type": "code",
   "execution_count": 36,
   "id": "939bbb39",
   "metadata": {
    "scrolled": true
   },
   "outputs": [
    {
     "data": {
      "text/html": [
       "<div>\n",
       "<style scoped>\n",
       "    .dataframe tbody tr th:only-of-type {\n",
       "        vertical-align: middle;\n",
       "    }\n",
       "\n",
       "    .dataframe tbody tr th {\n",
       "        vertical-align: top;\n",
       "    }\n",
       "\n",
       "    .dataframe thead th {\n",
       "        text-align: right;\n",
       "    }\n",
       "</style>\n",
       "<table border=\"1\" class=\"dataframe\">\n",
       "  <thead>\n",
       "    <tr style=\"text-align: right;\">\n",
       "      <th></th>\n",
       "      <th>customer_id</th>\n",
       "      <th>relationship_days</th>\n",
       "      <th>total_spend</th>\n",
       "      <th>beverage_categories</th>\n",
       "      <th>prediction</th>\n",
       "      <th>segment</th>\n",
       "    </tr>\n",
       "  </thead>\n",
       "  <tbody>\n",
       "    <tr>\n",
       "      <th>0</th>\n",
       "      <td>, 9GT0P908DS5VGJYRYG4CHAPSQG</td>\n",
       "      <td>224</td>\n",
       "      <td>145.0</td>\n",
       "      <td>5</td>\n",
       "      <td>explorer</td>\n",
       "      <td>explorer</td>\n",
       "    </tr>\n",
       "    <tr>\n",
       "      <th>1</th>\n",
       "      <td>, D74N0TBT7D2K6YPYDA734V56Y4</td>\n",
       "      <td>272</td>\n",
       "      <td>152.5</td>\n",
       "      <td>5</td>\n",
       "      <td>explorer</td>\n",
       "      <td>explorer</td>\n",
       "    </tr>\n",
       "    <tr>\n",
       "      <th>2</th>\n",
       "      <td>, XHN902RSGS7V6ZBWN7FE5QVGA4</td>\n",
       "      <td>371</td>\n",
       "      <td>55.0</td>\n",
       "      <td>3</td>\n",
       "      <td>cheapo</td>\n",
       "      <td>cheapo</td>\n",
       "    </tr>\n",
       "    <tr>\n",
       "      <th>3</th>\n",
       "      <td>, YDZ8kOpLlCLDlmom</td>\n",
       "      <td>609</td>\n",
       "      <td>159.0</td>\n",
       "      <td>6</td>\n",
       "      <td>loyal core</td>\n",
       "      <td>loyal core</td>\n",
       "    </tr>\n",
       "    <tr>\n",
       "      <th>4</th>\n",
       "      <td>-uNXHhkiA5JEebdj</td>\n",
       "      <td>802</td>\n",
       "      <td>107.0</td>\n",
       "      <td>8</td>\n",
       "      <td>loyal core</td>\n",
       "      <td>loyal core</td>\n",
       "    </tr>\n",
       "  </tbody>\n",
       "</table>\n",
       "</div>"
      ],
      "text/plain": [
       "                    customer_id  relationship_days  total_spend  \\\n",
       "0  , 9GT0P908DS5VGJYRYG4CHAPSQG                224        145.0   \n",
       "1  , D74N0TBT7D2K6YPYDA734V56Y4                272        152.5   \n",
       "2  , XHN902RSGS7V6ZBWN7FE5QVGA4                371         55.0   \n",
       "3            , YDZ8kOpLlCLDlmom                609        159.0   \n",
       "4              -uNXHhkiA5JEebdj                802        107.0   \n",
       "\n",
       "   beverage_categories  prediction     segment  \n",
       "0                    5    explorer    explorer  \n",
       "1                    5    explorer    explorer  \n",
       "2                    3      cheapo      cheapo  \n",
       "3                    6  loyal core  loyal core  \n",
       "4                    8  loyal core  loyal core  "
      ]
     },
     "execution_count": 36,
     "metadata": {},
     "output_type": "execute_result"
    }
   ],
   "source": [
    "testing_df.head()"
   ]
  },
  {
   "cell_type": "markdown",
   "id": "37354690",
   "metadata": {},
   "source": [
    "# Final Results"
   ]
  },
  {
   "cell_type": "code",
   "execution_count": 33,
   "id": "c1da1a11",
   "metadata": {},
   "outputs": [
    {
     "name": "stdout",
     "output_type": "stream",
     "text": [
      "[[444   0   7   0]\n",
      " [  0 258   1   1]\n",
      " [  0   3 513   0]\n",
      " [  0   1   0 561]]\n"
     ]
    }
   ],
   "source": [
    "print(confusion_matrix(testing_df.prediction, testing_df.segment))"
   ]
  },
  {
   "cell_type": "code",
   "execution_count": 35,
   "id": "74bb4548",
   "metadata": {},
   "outputs": [
    {
     "name": "stdout",
     "output_type": "stream",
     "text": [
      "              precision    recall  f1-score   support\n",
      "\n",
      "      cheapo       1.00      0.98      0.99       451\n",
      "    explorer       0.98      0.99      0.99       260\n",
      "  loyal core       0.98      0.99      0.99       516\n",
      "      newbie       1.00      1.00      1.00       562\n",
      "\n",
      "    accuracy                           0.99      1789\n",
      "   macro avg       0.99      0.99      0.99      1789\n",
      "weighted avg       0.99      0.99      0.99      1789\n",
      "\n"
     ]
    }
   ],
   "source": [
    "print(classification_report(testing.prediction, testing.segment))"
   ]
  },
  {
   "cell_type": "markdown",
   "id": "7915a570",
   "metadata": {},
   "source": [
    "Here we can see the acuracy of my KNN model is .99. "
   ]
  }
 ],
 "metadata": {
  "kernelspec": {
   "display_name": "Python 3 (ipykernel)",
   "language": "python",
   "name": "python3"
  },
  "language_info": {
   "codemirror_mode": {
    "name": "ipython",
    "version": 3
   },
   "file_extension": ".py",
   "mimetype": "text/x-python",
   "name": "python",
   "nbconvert_exporter": "python",
   "pygments_lexer": "ipython3",
   "version": "3.9.13"
  }
 },
 "nbformat": 4,
 "nbformat_minor": 5
}
